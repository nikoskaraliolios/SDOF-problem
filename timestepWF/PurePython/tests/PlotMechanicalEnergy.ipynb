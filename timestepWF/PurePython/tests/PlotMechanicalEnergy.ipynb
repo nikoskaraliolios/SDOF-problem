{
 "cells": [
  {
   "cell_type": "markdown",
   "metadata": {},
   "source": [
    "## Plot approximate solutions for the SDOF problem"
   ]
  },
  {
   "cell_type": "code",
   "execution_count": 1,
   "metadata": {},
   "outputs": [],
   "source": [
    "import sys\n",
    "sys.path.append('../')\n",
    "\n",
    "import numpy as np\n",
    "import math\n",
    "\n",
    "import matplotlib.pyplot as plt\n",
    "%matplotlib inline\n",
    "#plt.style.use('classic')\n",
    "\n",
    "from functions.BernsteinPols import BP, dBP\n",
    "from functions.construct_B import construct_B\n",
    "from functions.iteration import SDOF_integration\n",
    "from functions.make_solution import get_displacement, get_speed, get_acceleration, get_solution\n",
    "from functions.indefinite_integral import indefinite_integral"
   ]
  },
  {
   "cell_type": "markdown",
   "metadata": {},
   "source": [
    "Define parameters for the SDOF system"
   ]
  },
  {
   "cell_type": "code",
   "execution_count": 2,
   "metadata": {},
   "outputs": [],
   "source": [
    "m   = 1                  # the mass, >0\n",
    "c   = 0.1                # the damping coefficient, >= 0\n",
    "k   = 1                  # the stiffness coefficient, >0\n",
    "x0  = 0.1                # the initial displacement\n",
    "dx0 = -0.1               # the initial speed\n",
    "def force(t):            # the excitation function\n",
    "\t# return 0\n",
    "    return np.cos(t)"
   ]
  },
  {
   "cell_type": "markdown",
   "metadata": {},
   "source": [
    "Define parameters for the approximation"
   ]
  },
  {
   "cell_type": "code",
   "execution_count": 3,
   "metadata": {},
   "outputs": [],
   "source": [
    "p   = 5                  # p-1 is the degree of polynomial approximation, p>= 3\n",
    "h   = 0.01               # the timestep, >0\n",
    "l   = 1000               # the number of iterations, >0\n",
    "sampling_rate = 0.0001   # the spacing of points to sample for estimating the eigenfrequency"
   ]
  },
  {
   "cell_type": "markdown",
   "metadata": {},
   "source": [
    "Initialize and run the algorithm"
   ]
  },
  {
   "cell_type": "code",
   "execution_count": 4,
   "metadata": {},
   "outputs": [],
   "source": [
    "c = c/m\n",
    "k = k/m\n",
    "def f(t):\n",
    "    return force(t)/m\n",
    "\n",
    "sdof_int = SDOF_integration(p, c, k, x0, dx0, f, h, l)\n",
    "BP_coefs = sdof_int.integrator()\n",
    "t_series, approx_disp, approx_sp, approx_acc = get_solution(BP_coefs, c, k, f, h, sampling_rate = sampling_rate)"
   ]
  },
  {
   "cell_type": "markdown",
   "metadata": {},
   "source": [
    "Calculate and plot the error in energy conservation (TODO: use reduce in Numerical indefinite integration)"
   ]
  },
  {
   "cell_type": "code",
   "execution_count": 5,
   "metadata": {},
   "outputs": [
    {
     "data": {
      "image/png": "[encoded data removed]",
      "text/plain": [
       "<Figure size 432x288 with 1 Axes>"
      ]
     },
     "metadata": {},
     "output_type": "display_data"
    }
   ],
   "source": [
    "mech_en = (m * approx_sp **2 + k * approx_disp **2)/2\n",
    "\n",
    "external_work = indefinite_integral(f(t_series) * approx_sp, sampling_rate)\n",
    "friction_work = c* indefinite_integral(approx_sp * approx_sp, sampling_rate)\n",
    "\n",
    "fig = plt.figure()\n",
    "plt.title(\"Error in conservation of ME\")\n",
    "plt.plot(t_series,mech_en - external_work + friction_work - mech_en[0]);\n",
    "plt.show()"
   ]
  }
 ],
 "metadata": {
  "kernelspec": {
   "display_name": "Python 3",
   "language": "python",
   "name": "python3"
  },
  "language_info": {
   "codemirror_mode": {
    "name": "ipython",
    "version": 3
   },
   "file_extension": ".py",
   "mimetype": "text/x-python",
   "name": "python",
   "nbconvert_exporter": "python",
   "pygments_lexer": "ipython3",
   "version": "3.6.5"
  }
 },
 "nbformat": 4,
 "nbformat_minor": 2
}
