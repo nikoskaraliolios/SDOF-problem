{
 "cells": [
  {
   "cell_type": "markdown",
   "metadata": {},
   "source": [
    "## Estimate the eigenfrequency the SDOF problem through changes of direction of motion when x0 =1, and dx0 and f are 0"
   ]
  },
  {
   "cell_type": "code",
   "execution_count": 1,
   "metadata": {},
   "outputs": [],
   "source": [
    "import sys\n",
    "sys.path.append('../')\n",
    "\n",
    "\n",
    "import numpy as np\n",
    "import math\n",
    "\n",
    "import matplotlib.pyplot as plt\n",
    "%matplotlib inline\n",
    "#plt.style.use('classic')\n",
    "\n",
    "from functions.BernsteinPols import BP, dBP\n",
    "from functions.construct_B import construct_B\n",
    "from functions.iteration import SDOF_integration\n",
    "from functions.make_solution import get_displacement, get_speed, get_acceleration, get_solution"
   ]
  },
  {
   "cell_type": "markdown",
   "metadata": {},
   "source": [
    "Define parameters for the SDOF system"
   ]
  },
  {
   "cell_type": "code",
   "execution_count": 2,
   "metadata": {},
   "outputs": [],
   "source": [
    "m   = 1.5               # the mass, >0\n",
    "c   = 0.1               # the damping coefficient, >= 0\n",
    "k   = 2                 # the stiffness coefficient, >0\n",
    "x0  = 1                 # the initial displacement\n",
    "dx0 = 0                 # the initial speed\n",
    "def force(t):           # the excitation function = 0 for this test\n",
    "\treturn 0\n",
    "    # return np.sin(t)"
   ]
  },
  {
   "cell_type": "markdown",
   "metadata": {},
   "source": [
    "Define parameters for the approximation"
   ]
  },
  {
   "cell_type": "code",
   "execution_count": 3,
   "metadata": {},
   "outputs": [],
   "source": [
    "p   = 5                    # p-1 is the degree of polynomial approximation, p>= 3\n",
    "h   = 0.1                  # the timestep, >0\n",
    "l   = 100                  # the number of iterations, >0\n",
    "sampling_rate = 0.00001    # the spacing of points to sample for estimating the eigenfrequency"
   ]
  },
  {
   "cell_type": "markdown",
   "metadata": {},
   "source": [
    "Initialize and run the algorithm"
   ]
  },
  {
   "cell_type": "code",
   "execution_count": 4,
   "metadata": {},
   "outputs": [],
   "source": [
    "c = c/m\n",
    "k = k/m\n",
    "def f(t):\n",
    "    return force(t)/m\n",
    "\n",
    "sdof_int = SDOF_integration(p, c, k, x0, dx0, f, h, l)\n",
    "\n",
    "BP_coefs = sdof_int.integrator()\n",
    "t_series, approx_disp, approx_speed, _ = get_solution(BP_coefs, c, k, f, h, sampling_rate = sampling_rate)\n",
    "approx_speed = approx_speed[:t_series.shape[0]]"
   ]
  },
  {
   "cell_type": "markdown",
   "metadata": {},
   "source": [
    "Calculate and plot the approximate speed"
   ]
  },
  {
   "cell_type": "code",
   "execution_count": 5,
   "metadata": {},
   "outputs": [
    {
     "data": {
      "image/png": "[encoded data removed]",
      "text/plain": [
       "<Figure size 432x288 with 1 Axes>"
      ]
     },
     "metadata": {},
     "output_type": "display_data"
    }
   ],
   "source": [
    "fig = plt.figure()\n",
    "# ax = plt.axes()\n",
    "ax = fig.gca()\n",
    "ax.set_xticks(np.arange(-0, l*h, 1))\n",
    "ax.set_yticks(np.arange(-1., 1.1, 0.5))\n",
    "plt.title(\"Approximate solution\")\n",
    "ax.plot(t_series, approx_speed, 'red', label = 'Speed');\n",
    "ax.plot(t_series, approx_disp, 'blue', label = 'Displacement');\n",
    "ax.legend();\n",
    "plt.grid()\n",
    "plt.show()"
   ]
  },
  {
   "cell_type": "markdown",
   "metadata": {},
   "source": [
    "Find changes of sign in speed"
   ]
  },
  {
   "cell_type": "code",
   "execution_count": 6,
   "metadata": {},
   "outputs": [
    {
     "name": "stdout",
     "output_type": "stream",
     "text": [
      "The relative error in the estimation of the 1-th half-eigenperiod is -1.24e-06\n",
      "The relative error in the estimation of the 2-th half-eigenperiod is -2.48e-06\n",
      "The relative error in the estimation of the 3-th half-eigenperiod is -3.73e-06\n"
     ]
    }
   ],
   "source": [
    "change_direction = list(map(lambda x:x[0]*x[1] <= 0,list(zip(approx_speed[:-1],approx_speed[1:]))))\n",
    "idx = [sampling_rate*i for i,x in enumerate(change_direction) if x]\n",
    "xi = c / (2*np.sqrt(k))\n",
    "true_period = np.pi / (np.sqrt(k) * np.sqrt(1 - xi **2))\n",
    "error = (idx[1:] - true_period*np.arange(1,len(idx)))/ true_period\n",
    "\n",
    "for i in range(len(error)):\n",
    "    print(\"The relative error in the estimation of the {i}-th half-eigenperiod is {e:.2e}\".format(i = i+1, e = error[i]))"
   ]
  }
 ],
 "metadata": {
  "kernelspec": {
   "display_name": "Python 3",
   "language": "python",
   "name": "python3"
  },
  "language_info": {
   "codemirror_mode": {
    "name": "ipython",
    "version": 3
   },
   "file_extension": ".py",
   "mimetype": "text/x-python",
   "name": "python",
   "nbconvert_exporter": "python",
   "pygments_lexer": "ipython3",
   "version": "3.6.5"
  }
 },
 "nbformat": 4,
 "nbformat_minor": 2
}
